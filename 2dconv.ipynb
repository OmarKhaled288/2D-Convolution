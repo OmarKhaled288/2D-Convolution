{
 "cells": [
  {
   "cell_type": "code",
   "execution_count": 1,
   "metadata": {},
   "outputs": [],
   "source": [
    "import numpy as np"
   ]
  },
  {
   "cell_type": "code",
   "execution_count": 80,
   "metadata": {},
   "outputs": [
    {
     "name": "stdout",
     "output_type": "stream",
     "text": [
      "[[   0    1    2 ...   29   30   31]\n",
      " [  32   33   34 ...   61   62   63]\n",
      " [  64   65   66 ...   93   94   95]\n",
      " ...\n",
      " [ 928  929  930 ...  957  958  959]\n",
      " [ 960  961  962 ...  989  990  991]\n",
      " [ 992  993  994 ... 1021 1022 1023]]\n"
     ]
    }
   ],
   "source": [
    "coor = 32\n",
    "img = np.arange(coor*coor).reshape(coor, coor)\n",
    "print(img)"
   ]
  },
  {
   "cell_type": "code",
   "execution_count": 75,
   "metadata": {},
   "outputs": [],
   "source": [
    "x = np.array([[-1,  0,  1],\n",
    "              [-2,  0,  2],\n",
    "              [-1,  0,  1]])\n",
    "\n",
    "y = np.array([[ 1, -1],\n",
    "              [ 1, -1],\n",
    "              [ 1, -1]])"
   ]
  },
  {
   "cell_type": "code",
   "execution_count": 71,
   "metadata": {},
   "outputs": [],
   "source": [
    "def conv(img, kernel):\n",
    "    final = np.zeros(img.shape)\n",
    "    kernel_offset = kernel.shape[0]-2\n",
    "    for i in range(kernel_offset, img.shape[0] - kernel_offset):\n",
    "        for j in range(kernel_offset, img.shape[1] - kernel_offset):\n",
    "\n",
    "            for x in range(0, kernel.shape[0], kernel.shape[0]):\n",
    "                for y in range(0, kernel.shape[1], kernel.shape[1]):\n",
    "\n",
    "                    slice = img[x:x+kernel.shape[0], y:y+kernel.shape[1]]\n",
    "                    final[i][j]=(slice*(kernel)).sum()\n",
    "    return final"
   ]
  },
  {
   "cell_type": "code",
   "execution_count": 82,
   "metadata": {},
   "outputs": [
    {
     "name": "stdout",
     "output_type": "stream",
     "text": [
      "[[0. 0. 0. ... 0. 0. 0.]\n",
      " [0. 8. 8. ... 8. 8. 0.]\n",
      " [0. 8. 8. ... 8. 8. 0.]\n",
      " ...\n",
      " [0. 8. 8. ... 8. 8. 0.]\n",
      " [0. 8. 8. ... 8. 8. 0.]\n",
      " [0. 0. 0. ... 0. 0. 0.]]\n"
     ]
    }
   ],
   "source": [
    "print(conv(img, x))"
   ]
  },
  {
   "cell_type": "code",
   "execution_count": null,
   "metadata": {},
   "outputs": [],
   "source": []
  }
 ],
 "metadata": {
  "kernelspec": {
   "display_name": "base",
   "language": "python",
   "name": "python3"
  },
  "language_info": {
   "codemirror_mode": {
    "name": "ipython",
    "version": 3
   },
   "file_extension": ".py",
   "mimetype": "text/x-python",
   "name": "python",
   "nbconvert_exporter": "python",
   "pygments_lexer": "ipython3",
   "version": "3.9.13"
  },
  "orig_nbformat": 4,
  "vscode": {
   "interpreter": {
    "hash": "f3fe11019b2bfadf9d3bcfda1f34e757aa4d737fcf534aee42ba847e47df7883"
   }
  }
 },
 "nbformat": 4,
 "nbformat_minor": 2
}
